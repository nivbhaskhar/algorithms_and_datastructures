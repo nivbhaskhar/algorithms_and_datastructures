{
  "nbformat": 4,
  "nbformat_minor": 0,
  "metadata": {
    "colab": {
      "name": "BFS_problem.ipynb",
      "provenance": []
    },
    "kernelspec": {
      "name": "python3",
      "display_name": "Python 3"
    }
  },
  "cells": [
    {
      "cell_type": "markdown",
      "metadata": {
        "id": "d78LWQ5-NQlV",
        "colab_type": "text"
      },
      "source": [
        "# BFS problem\n",
        "\n",
        "Given an N x M chessboard,\n",
        "\n",
        "s = (s_0, s_1), the start position of a knight\n",
        "\n",
        "\n",
        "t = (t_0, t_1), the target position of a knight\n",
        "\n",
        "Output a path connecting s and t by knight moves. If a knight cannot move from s to t, output [(-1,-1)]\n",
        "\n",
        "\n"
      ]
    },
    {
      "cell_type": "code",
      "metadata": {
        "id": "5FmN5fGoFDNi",
        "colab_type": "code",
        "colab": {}
      },
      "source": [
        "import pprint\n",
        "from typing import List, Tuple\n",
        "from collections import defaultdict, deque\n",
        "class Solution:\n",
        "    def KnightPath(self, N: int, M: int , s: Tuple[int], t: Tuple[int]) -> List[Tuple[int]]:\n",
        "        #create graph\n",
        "        \n",
        "        vertices = [ (i, j) for i in range(N) for j in range(M) ]\n",
        "        adjacency_dict = defaultdict(list) \n",
        "        parent_dict = {}\n",
        "        visited = {}\n",
        "        queue_to_explore = deque([])\n",
        "\n",
        "\n",
        "        \n",
        "        #update adjacency dict and initialize visited to False\n",
        "        for (i,j) in vertices:\n",
        "          visited[(i,j)]= False\n",
        "          neighbours = [(i-2,j-1), (i-2, j+1), (i-1,j-2), (i-1, j+2), (i+1,j-2), (i+1, j+2), (i+2,j-1), (i+2, j+1)]\n",
        "          for (a,b) in neighbours:\n",
        "            if (0<=a) and (a<N):\n",
        "              if (0<=b) and (b<M):\n",
        "                adjacency_dict[(i,j)].append((a,b))\n",
        "        #pprint.pprint(adjacency_dict)\n",
        "\n",
        "\n",
        "        visited[s] = True\n",
        "        queue_to_explore.append(s)\n",
        "\n",
        "        while queue_to_explore:\n",
        "          v = queue_to_explore.popleft()\n",
        "          for w in adjacency_dict[v]:\n",
        "            if visited[w] == False:\n",
        "              visited[w]= True\n",
        "              parent_dict[w]=v\n",
        "              queue_to_explore.append(w)\n",
        "\n",
        "\n",
        "        if visited[t]:\n",
        "          my_path = []\n",
        "          v = t\n",
        "          while v in parent_dict:\n",
        "            my_path.append(v)\n",
        "            v = parent_dict[v]\n",
        "          my_path.append(s)\n",
        "          return list(reversed(my_path))\n",
        "            \n",
        "\n",
        "        else:\n",
        "          return [(-1,-1)]  \n",
        "\n",
        "\n",
        "\n",
        "        \n",
        "        \n",
        "        \n",
        "\n",
        "        "
      ],
      "execution_count": 0,
      "outputs": []
    },
    {
      "cell_type": "code",
      "metadata": {
        "id": "dOTtrKP7FPTt",
        "colab_type": "code",
        "colab": {}
      },
      "source": [
        "sol = Solution()"
      ],
      "execution_count": 0,
      "outputs": []
    },
    {
      "cell_type": "code",
      "metadata": {
        "id": "1SLOLK64FWum",
        "colab_type": "code",
        "outputId": "f5742e69-db6f-4e4c-ef27-75edcfa25725",
        "colab": {
          "base_uri": "https://localhost:8080/",
          "height": 34
        }
      },
      "source": [
        "sol.KnightPath(3,4,(0,0), (2,2))"
      ],
      "execution_count": 44,
      "outputs": [
        {
          "output_type": "execute_result",
          "data": {
            "text/plain": [
              "[(0, 0), (1, 2), (2, 0), (0, 1), (2, 2)]"
            ]
          },
          "metadata": {
            "tags": []
          },
          "execution_count": 44
        }
      ]
    },
    {
      "cell_type": "code",
      "metadata": {
        "id": "yHy4UekBjJqx",
        "colab_type": "code",
        "colab": {
          "base_uri": "https://localhost:8080/",
          "height": 34
        },
        "outputId": "7b67b27a-712f-4cf0-d808-13a01bafa441"
      },
      "source": [
        "sol.KnightPath(3,3,(0,1), (1,1))"
      ],
      "execution_count": 45,
      "outputs": [
        {
          "output_type": "execute_result",
          "data": {
            "text/plain": [
              "[(-1, -1)]"
            ]
          },
          "metadata": {
            "tags": []
          },
          "execution_count": 45
        }
      ]
    },
    {
      "cell_type": "code",
      "metadata": {
        "id": "kFK5bYvujMpq",
        "colab_type": "code",
        "colab": {}
      },
      "source": [
        ""
      ],
      "execution_count": 0,
      "outputs": []
    }
  ]
}