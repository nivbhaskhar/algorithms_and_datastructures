{
  "nbformat": 4,
  "nbformat_minor": 0,
  "metadata": {
    "colab": {
      "name": "Dijkstra.ipynb",
      "provenance": []
    },
    "kernelspec": {
      "name": "python3",
      "display_name": "Python 3"
    }
  },
  "cells": [
    {
      "cell_type": "markdown",
      "metadata": {
        "id": "vRa9vXEyPNtE",
        "colab_type": "text"
      },
      "source": [
        "Implementing Dijkstra's shortest path (from a given source vertex) problem"
      ]
    },
    {
      "cell_type": "code",
      "metadata": {
        "id": "kwLml_H_Phki",
        "colab_type": "code",
        "colab": {}
      },
      "source": [
        "#imports\n",
        "from collections import defaultdict\n",
        "from typing import List, Dict\n",
        "import pprint\n",
        "#this imports \"infinity\"\n",
        "from math import inf\n"
      ],
      "execution_count": 0,
      "outputs": []
    },
    {
      "cell_type": "markdown",
      "metadata": {
        "id": "EkWKitZjQa4o",
        "colab_type": "text"
      },
      "source": [
        "**Input notation of a weighted undirected graph** <br><br>\n",
        "\n",
        "n = number of vertices <br>\n",
        "V = vertex_set = {0,1,2,...,n-1} <br>\n",
        "edge_list = [[start_vertex, end_vertex, weight_of_edge_1], [start_vertex, end_vertex, weight_of_edge_2], .... ] <br>"
      ]
    },
    {
      "cell_type": "code",
      "metadata": {
        "id": "W-pSVyxWP3Iw",
        "colab_type": "code",
        "colab": {}
      },
      "source": [
        "def convert_to_adjacency_dict(n: int, edge_list: List[List[int]]) -> Dict[int, List[int]]:\n",
        " \"\"\"\n",
        " converts the edge_list into an adjacency_dict where \n",
        " adjacency_dict[vertex v] = [List of tuples (x, w) where x is connected to v and edge v-x has weight w]\n",
        " \"\"\"\n",
        " adjacency_dict = defaultdict(list)\n",
        " for start, end, weight in edge_list:\n",
        "      adjacency_dict[start].append((end, weight))\n",
        "      adjacency_dict[end].append((start, weight))\n",
        " return adjacency_dict"
      ],
      "execution_count": 0,
      "outputs": []
    },
    {
      "cell_type": "code",
      "metadata": {
        "id": "tsOGXP41g9IU",
        "colab_type": "code",
        "colab": {
          "base_uri": "https://localhost:8080/",
          "height": 119
        },
        "outputId": "6fd2cb92-7340-40ab-8886-9b0735de163f"
      },
      "source": [
        "help(convert_to_adjacency_dict)"
      ],
      "execution_count": 76,
      "outputs": [
        {
          "output_type": "stream",
          "text": [
            "Help on function convert_to_adjacency_dict in module __main__:\n",
            "\n",
            "convert_to_adjacency_dict(n:int, edge_list:List[List[int]]) -> Dict[int, List[int]]\n",
            "    converts the edge_list into an adjacency_dict where \n",
            "    adjacency_dict[vertex v] = [List of tuples (x, w) where x is connected to v and edge v-x has weight w]\n",
            "\n"
          ],
          "name": "stdout"
        }
      ]
    },
    {
      "cell_type": "markdown",
      "metadata": {
        "id": "Ryp2FwAVSSyA",
        "colab_type": "text"
      },
      "source": [
        "**Test example of a graph G** <br><br>\n",
        "my_n = 5 <br>\n",
        "my_edge_list = [[0,1,2],[0,4,8],[1,2,3],[1,4,2],[2,3,1],[3,4,1]]\n",
        "\n"
      ]
    },
    {
      "cell_type": "code",
      "metadata": {
        "id": "Cb2zMbX_fm25",
        "colab_type": "code",
        "colab": {}
      },
      "source": [
        "#test_input\n",
        "my_n = 5\n",
        "my_edge_list = [[0,1,2],[0,4,8],[1,2,3],[1,4,2],[2,3,1],[3,4,1]]\n"
      ],
      "execution_count": 0,
      "outputs": []
    },
    {
      "cell_type": "code",
      "metadata": {
        "id": "DgWMvZ9HY1bU",
        "colab_type": "code",
        "colab": {}
      },
      "source": [
        "import networkx as nx\n",
        "import matplotlib.pyplot as plt\n",
        "\n",
        "\n",
        "def draw_graph(n: int, edge_list = List[List[int]]):\n",
        "\n",
        "  #define vertexlabels\n",
        "    my_vertexlabels = {}\n",
        "    vertices = []\n",
        "    for i in range(n):\n",
        "      my_vertexlabels[i] = i\n",
        "      vertices.append(i)\n",
        "\n",
        "\n",
        "\n",
        "    # define set of nodes  = {0,1,2,.., n-1}\n",
        "    nodes = set(vertices)\n",
        "\n",
        "    # create networkx graph\n",
        "    G=nx.Graph()\n",
        "\n",
        "    # add nodes\n",
        "    for node in nodes:\n",
        "        G.add_node(node)\n",
        "\n",
        "    # add edges and create edge labels dictionary\n",
        "    my_edgelabels = {}\n",
        "    for edge in edge_list:\n",
        "        G.add_edge(edge[0], edge[1])\n",
        "        my_edgelabels[(edge[0], edge[1])] = edge[2]\n",
        "  \n",
        "\n",
        "    # draw graph\n",
        "    pos = nx.shell_layout(G)\n",
        "    nx.draw(G, pos, edge_color='black', node_color='gray', node_size=500)\n",
        "    nx.draw_networkx_labels(G, pos, my_vertexlabels, font_size=20)\n",
        "    nx.draw_networkx_edge_labels(G,pos,edge_labels=my_edgelabels,font_color='black', font_size = 25)\n",
        "\n",
        "    # show graph\n",
        "    plt.show()\n",
        "\n"
      ],
      "execution_count": 0,
      "outputs": []
    },
    {
      "cell_type": "code",
      "metadata": {
        "id": "wA76iKPqfamg",
        "colab_type": "code",
        "colab": {
          "base_uri": "https://localhost:8080/",
          "height": 319
        },
        "outputId": "695d82de-2c9e-4dd4-e196-c6963f394151"
      },
      "source": [
        "# draw example\n",
        "draw_graph(my_n, my_edge_list)\n"
      ],
      "execution_count": 79,
      "outputs": [
        {
          "output_type": "display_data",
          "data": {
            "image/png": "[encoded data removed]",
            "text/plain": [
              "<Figure size 432x288 with 1 Axes>"
            ]
          },
          "metadata": {
            "tags": []
          }
        }
      ]
    },
    {
      "cell_type": "code",
      "metadata": {
        "id": "f-jup6GLTJxI",
        "colab_type": "code",
        "colab": {
          "base_uri": "https://localhost:8080/",
          "height": 119
        },
        "outputId": "a8b59a85-57b7-424c-f47e-0b96ba45ee8a"
      },
      "source": [
        "convert_to_adjacency_dict(my_n, my_edge_list)"
      ],
      "execution_count": 80,
      "outputs": [
        {
          "output_type": "execute_result",
          "data": {
            "text/plain": [
              "defaultdict(list,\n",
              "            {0: [(1, 2), (4, 8)],\n",
              "             1: [(0, 2), (2, 3), (4, 2)],\n",
              "             2: [(1, 3), (3, 1)],\n",
              "             3: [(2, 1), (4, 1)],\n",
              "             4: [(0, 8), (1, 2), (3, 1)]})"
            ]
          },
          "metadata": {
            "tags": []
          },
          "execution_count": 80
        }
      ]
    },
    {
      "cell_type": "markdown",
      "metadata": {
        "id": "BQFca0YGUm5h",
        "colab_type": "text"
      },
      "source": [
        "**Implementing Dijkstra**"
      ]
    },
    {
      "cell_type": "code",
      "metadata": {
        "id": "j0MkET0STNtQ",
        "colab_type": "code",
        "colab": {}
      },
      "source": [
        "def dijkstra(n: int, edge_list: List[List[int]], startvertex: int)-> List[int]:\n",
        "    \"\"\"\n",
        "    Given n, edge_list, and a startvertex, runs dijkstra and \n",
        "    returns a shortestpaths list of size n where shortestpath[i] = shortest distance between i and startvertex\n",
        "    \"\"\"\n",
        "    adjacency_dict = convert_to_adjacency_dict(n, edge_list)\n",
        "    shortestpaths = [inf]*n\n",
        "    burnt = {}\n",
        "    to_be_burnt = {startvertex: 0}\n",
        "    while to_be_burnt:\n",
        "         nextvertex, pathlength = min(to_be_burnt.items(), key=lambda x: x[1])\n",
        "         burnt[nextvertex] = pathlength\n",
        "         del to_be_burnt[nextvertex]\n",
        "         #update to_be_burnt\n",
        "         for neighbour, weight in adjacency_dict[nextvertex]:\n",
        "             newlength = pathlength + weight\n",
        "             if neighbour in to_be_burnt:\n",
        "                to_be_burnt[neighbour] = min(to_be_burnt[neighbour], newlength)\n",
        "             elif neighbour not in burnt:\n",
        "                to_be_burnt[neighbour] = newlength\n",
        "    for vertex in range(n):\n",
        "          if vertex in burnt:\n",
        "            shortestpaths[vertex] = burnt[vertex]\n",
        "                            \n",
        "    return shortestpaths\n",
        "        "
      ],
      "execution_count": 0,
      "outputs": []
    },
    {
      "cell_type": "markdown",
      "metadata": {
        "id": "j8Q3HgebW5Om",
        "colab_type": "text"
      },
      "source": [
        "**Running dijkstra on our example**<br><br>\n",
        "my_n = 5 <br>\n",
        "my_edge_list = [[0,1,2],[0,4,8],[1,2,3],[1,4,2],[2,3,1],[3,4,1]] <br>\n",
        "my_start_vertex = 0\n",
        "\n"
      ]
    },
    {
      "cell_type": "code",
      "metadata": {
        "id": "JoChrWLHXXRr",
        "colab_type": "code",
        "colab": {}
      },
      "source": [
        "#test input\n",
        "my_n = 5\n",
        "my_edge_list = [[0,1,2],[0,4,8],[1,2,3],[1,4,2],[2,3,1],[3,4,1]] \n",
        "my_start_vertex = 0\n"
      ],
      "execution_count": 0,
      "outputs": []
    },
    {
      "cell_type": "code",
      "metadata": {
        "id": "BWcQMR69fUce",
        "colab_type": "code",
        "colab": {}
      },
      "source": [
        "#draw test graph with start vertex labelled with pink\n",
        "def draw_graph_with_startvertex(n: int, edge_list: List[List[int]], start_vertex : int):\n",
        "\n",
        "  #define vertexlabels\n",
        "    my_vertexlabels = {}\n",
        "    vertices = []\n",
        "    for i in range(n):\n",
        "      my_vertexlabels[i] = i\n",
        "      vertices.append(i)\n",
        "\n",
        "\n",
        "\n",
        "    # define set of nodes  = {0,1,2,.., n-1}\n",
        "    nodes = set(vertices)\n",
        "\n",
        "    # create networkx graph\n",
        "    G=nx.Graph()\n",
        "\n",
        "    # add nodes\n",
        "    for node in nodes:\n",
        "        G.add_node(node)\n",
        "\n",
        "    # add edges and create edge labels dictionary\n",
        "    my_edgelabels = {}\n",
        "    for edge in edge_list:\n",
        "        G.add_edge(edge[0], edge[1])\n",
        "        my_edgelabels[(edge[0], edge[1])] = edge[2]\n",
        "  \n",
        "\n",
        "    # draw graph\n",
        "    pos = nx.shell_layout(G)\n",
        "    nx.draw(G, pos, edge_color='black', node_color='gray', node_size=500)\n",
        "    nx.draw_networkx_labels(G, pos, my_vertexlabels, font_size=20)\n",
        "    nx.draw_networkx_edge_labels(G,pos,edge_labels=my_edgelabels,font_color='black', font_size = 25)\n",
        "    nx.draw_networkx_nodes(G,pos, nodelist=[start_vertex], node_color='r', node_size=500)\n",
        "\n",
        "    # show graph\n",
        "    plt.show()"
      ],
      "execution_count": 0,
      "outputs": []
    },
    {
      "cell_type": "code",
      "metadata": {
        "id": "dRw6q-GmfNs4",
        "colab_type": "code",
        "colab": {
          "base_uri": "https://localhost:8080/",
          "height": 319
        },
        "outputId": "63cf1b9c-3347-445e-9748-9add21de21ff"
      },
      "source": [
        "draw_graph_with_startvertex(my_n, my_edge_list, my_start_vertex)\n"
      ],
      "execution_count": 84,
      "outputs": [
        {
          "output_type": "display_data",
          "data": {
            "image/png": "[encoded data removed]",
            "text/plain": [
              "<Figure size 432x288 with 1 Axes>"
            ]
          },
          "metadata": {
            "tags": []
          }
        }
      ]
    },
    {
      "cell_type": "code",
      "metadata": {
        "id": "btTG45yLXQD0",
        "colab_type": "code",
        "colab": {
          "base_uri": "https://localhost:8080/",
          "height": 34
        },
        "outputId": "14d7ea12-732b-4f9e-c638-ec3d7db5add3"
      },
      "source": [
        "dijkstra(my_n, my_edge_list, my_start_vertex)"
      ],
      "execution_count": 85,
      "outputs": [
        {
          "output_type": "execute_result",
          "data": {
            "text/plain": [
              "[0, 2, 5, 5, 4]"
            ]
          },
          "metadata": {
            "tags": []
          },
          "execution_count": 85
        }
      ]
    }
  ]
}