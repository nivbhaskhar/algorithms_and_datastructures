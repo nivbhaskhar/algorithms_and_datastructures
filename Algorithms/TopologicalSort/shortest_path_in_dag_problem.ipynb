{
  "nbformat": 4,
  "nbformat_minor": 0,
  "metadata": {
    "colab": {
      "name": "shortest_path_in_dag_problem.ipynb",
      "provenance": []
    },
    "kernelspec": {
      "name": "python3",
      "display_name": "Python 3"
    }
  },
  "cells": [
    {
      "cell_type": "markdown",
      "metadata": {
        "id": "d78LWQ5-NQlV",
        "colab_type": "text"
      },
      "source": [
        "# Red card\n",
        "\n",
        "Government of a city gives a red ID card to its residents. Process of getting a red card involves N stages. At each stage, a govt official will check if application papers submitted by resident is OK. The govt has appointed M officials to handle papers at each stage.\n",
        "\n",
        "So there are MN officials in all. The govt has grouped the MN officials into M channels (each channel containing N officials, each official is responsible for one stage). Each official takes some number of days to process the paperwork at his/her stage in his/her channel\n",
        "\n",
        "An applicant may choose any channel and can also switch from channel i to channel i+1 (or channel M to channel 1) as he clears the N stages. But he can only switch in between stages and not during a stage. There is no limit on the number of channel changes.\n",
        "\n",
        "Find minimum number of days required for an applicant to clear all stages.\n",
        "\n",
        "Sample input: 4 stages, 3 channels\n",
        "\n",
        "Channel 1 : 2 6 1 8\n",
        "\n",
        "Channel 2 : 3 6 2 6\n",
        "\n",
        "Channel 3 : 4 2 3 6\n",
        "\n",
        "\n",
        "Answer : If applicant sticks to channel 1, he will take 2 + 6 + 1 + 8 =  17 days.  But he can start with channel 2 (stage 1), shift to channel 3 (stage 2), shift to channel 1 (stage 3) and end with channel 2 (stage 4). He then takes\n",
        "3 + 2 + 1+ 6 = 12 days. 12 turns out to be the minimum number of days required\n"
      ]
    },
    {
      "cell_type": "markdown",
      "metadata": {
        "id": "sCSIi6U63sfK",
        "colab_type": "text"
      },
      "source": [
        "# Approach\n",
        "\n",
        "Create a DAG\n",
        "\n",
        "**Vertices** : \n",
        "\n",
        "{(channel i, pre-stage j)} for 0<=i<=M-1 and 0<= j<= N\n",
        "\n",
        "\n",
        "\n",
        "**Edges** : \n",
        "\n",
        "- (channel i, pre-stage j) ---> (channel i, pre-stage j+1) with weight (channel i, stage j number of days)  for 0<= i <= M-1, 0<= j <= N-1\n",
        "\n",
        "\n",
        "\n",
        "- (channel i, pre-stage j) ---> (channel i+1, pre-stage j+1) with weight (channel i, stage j number of days) for 0<= i < M-1, 0<= j <= N-1\n",
        "\n",
        "\n",
        "- (channel M-1, pre-stage j) ---> (channel 0, stage j+1) with weight (channel M-1, stage j number of days)  for 0<= j <= N-1\n",
        "\n",
        "\n",
        "This is a DAG because you can only go to increasing stages, so can't loop back from stage j to stage less than j.\n",
        "\n",
        "\n",
        "Need to find the shortest path joining (*, pre-stage 0) and (**, pre-stage N) where * and ** can be anything.\n",
        "\n",
        "\n",
        "\n",
        "\n"
      ]
    },
    {
      "cell_type": "code",
      "metadata": {
        "id": "5FmN5fGoFDNi",
        "colab_type": "code",
        "colab": {}
      },
      "source": [
        "import pprint\n",
        "from typing import List\n",
        "from collections import defaultdict, deque\n",
        "from math import inf \n",
        "class Solution:\n",
        "    def minStages(self, arr: List[List[int]]) -> int:\n",
        "        #create DAG\n",
        "        \n",
        "        M = len(arr)\n",
        "        N = len(arr[0])\n",
        "\n",
        "        vertices = [(i, j) for i in range(M) for j in range(N+1)]\n",
        "        adjacency_dict = defaultdict(list) \n",
        "        predec_dict = defaultdict(list)\n",
        "        indegree_list = [[0]*(N+1) for i in range(M)]\n",
        "        \n",
        "        #update adjacency dict, predec dict and initialize indegree list simultaneously\n",
        "        for i, j in vertices:\n",
        "          if j < N:\n",
        "            adjacency_dict[(i,j)].append((i,j+1, arr[i][j]))\n",
        "            predec_dict[(i,j+1)].append((i,j, arr[i][j]))\n",
        "            indegree_list[i][j+1] += 1\n",
        "            if i < M-1:\n",
        "                adjacency_dict[(i,j)].append((i+1,j+1, arr[i][j]))\n",
        "                predec_dict[(i+1,j+1)].append((i,j, arr[i][j]))\n",
        "                indegree_list[i+1][j+1] += 1\n",
        "            else:\n",
        "                adjacency_dict[(i,j)].append((0,j+1, arr[i][j]))\n",
        "                predec_dict[(0,j+1)].append((i,j, arr[i][j]))\n",
        "                indegree_list[0][j+1] += 1\n",
        "\n",
        "        #pprint.pprint(adjacency_dict)\n",
        "        #pprint.pprint(predec_dict)\n",
        "        #pprint.pprint(indegree_list)\n",
        "\n",
        "        \n",
        "        #create queue of indegree 0 vertices\n",
        "        indegree_0_queue = deque([(i, 0) for i in range(M)])\n",
        "        no_of_degree_0_initially = len(indegree_0_queue)\n",
        "        #pprint.pprint(indegree_0_queue)\n",
        "\n",
        "\n",
        "        topologically_sorted_vertices = []\n",
        "        #topological sort\n",
        "        while indegree_0_queue:\n",
        "            processing_vertex = indegree_0_queue.popleft()\n",
        "            topologically_sorted_vertices.append(processing_vertex)\n",
        "            for neighbour in adjacency_dict[processing_vertex]:\n",
        "                indegree_list[neighbour[0]][neighbour[1]] -= 1\n",
        "                if indegree_list[neighbour[0]][neighbour[1]] == 0:\n",
        "                    indegree_0_queue.append((neighbour[0], neighbour[1]))\n",
        "                    \n",
        "        #pprint.pprint(topologically_sorted_vertices)\n",
        "\n",
        "        #Actually the topologically sorted order is obvious: list (channel 0<= i <= M-1, pre-stage j) in increasing order of j ..\n",
        "\n",
        "\n",
        "      \n",
        "        min_pathlength_to_= {}\n",
        "        \n",
        "       \n",
        "        for v in topologically_sorted_vertices:\n",
        "            if not predec_dict[v]:\n",
        "              min_pathlength_to_[v] = 0\n",
        "              continue\n",
        "\n",
        "\n",
        "            min_pathlength_from_all_initial_vertices = inf\n",
        "            for predec in predec_dict[v]:\n",
        "                    min_pathlength_from_all_initial_vertices = min(min_pathlength_from_all_initial_vertices, min_pathlength_to_[(predec[0], predec[1])]+ predec[2]) \n",
        "            min_pathlength_to_[v] = min_pathlength_from_all_initial_vertices \n",
        "            #print(v, min_pathlength_to_[v])\n",
        "                \n",
        "        answer = inf\n",
        "        for i in range(M):\n",
        "          answer = min(answer, min_pathlength_to_[(i,N)])\n",
        "\n",
        "        return answer\n",
        "\n",
        "            \n",
        "        \n",
        "     \n",
        "           \n",
        "                "
      ],
      "execution_count": 0,
      "outputs": []
    },
    {
      "cell_type": "code",
      "metadata": {
        "id": "dOTtrKP7FPTt",
        "colab_type": "code",
        "colab": {}
      },
      "source": [
        "sol = Solution()"
      ],
      "execution_count": 0,
      "outputs": []
    },
    {
      "cell_type": "code",
      "metadata": {
        "id": "1SLOLK64FWum",
        "colab_type": "code",
        "outputId": "ea564f50-4db2-4f8d-b42b-99a0e38893b6",
        "colab": {
          "base_uri": "https://localhost:8080/",
          "height": 34
        }
      },
      "source": [
        "sol.minStages([[2, 6, 1, 8], [3, 6, 2, 6], [4, 2, 3, 6]])"
      ],
      "execution_count": 47,
      "outputs": [
        {
          "output_type": "execute_result",
          "data": {
            "text/plain": [
              "12"
            ]
          },
          "metadata": {
            "tags": []
          },
          "execution_count": 47
        }
      ]
    },
    {
      "cell_type": "code",
      "metadata": {
        "id": "deIR94K6FfAC",
        "colab_type": "code",
        "colab": {}
      },
      "source": [
        "\n",
        "            "
      ],
      "execution_count": 0,
      "outputs": []
    }
  ]
}