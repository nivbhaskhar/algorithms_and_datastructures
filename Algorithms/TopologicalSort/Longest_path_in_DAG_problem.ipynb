{
  "nbformat": 4,
  "nbformat_minor": 0,
  "metadata": {
    "colab": {
      "name": "Longest_path_in_DAG_problem.ipynb",
      "provenance": []
    },
    "kernelspec": {
      "name": "python3",
      "display_name": "Python 3"
    }
  },
  "cells": [
    {
      "cell_type": "markdown",
      "metadata": {
        "id": "d78LWQ5-NQlV",
        "colab_type": "text"
      },
      "source": [
        "# Leetcode Problem : Jump Game V\n",
        "\n",
        "[https://leetcode.com/contest/weekly-contest-174/problems/jump-game-v/](https://leetcode.com/contest/weekly-contest-174/problems/jump-game-v/)\n",
        "\n"
      ]
    },
    {
      "cell_type": "code",
      "metadata": {
        "id": "5FmN5fGoFDNi",
        "colab_type": "code",
        "colab": {}
      },
      "source": [
        "import pprint\n",
        "from typing import List\n",
        "from collections import defaultdict, deque\n",
        "class Solution:\n",
        "    def maxJumps(self, arr: List[int], d: int) -> int:\n",
        "        #create DAG\n",
        "        \n",
        "        n = len(arr)\n",
        "        vertices = list(range(n))\n",
        "        adjacency_dict = defaultdict(list) \n",
        "        predec_dict = defaultdict(list)\n",
        "        indegree_list = [0]*n\n",
        "        \n",
        "        #update adjacency dict and initialize indegrees simultaneously\n",
        "        for vertex in vertices:\n",
        "            leftend = max(0, vertex - d)\n",
        "            rightend = min(n-1, vertex + d)\n",
        "            for node in range(vertex-1,leftend-1, -1):\n",
        "                if arr[node] < arr[vertex]:\n",
        "                    adjacency_dict[vertex].append(node)\n",
        "                    predec_dict[node].append(vertex)\n",
        "                    indegree_list[node] += 1\n",
        "                else:\n",
        "                    break\n",
        "            for node in range(vertex+1, rightend+1):\n",
        "                if arr[node] < arr[vertex]:\n",
        "                    adjacency_dict[vertex].append(node)\n",
        "                    predec_dict[node].append(vertex)\n",
        "                    indegree_list[node] += 1\n",
        "                else:\n",
        "                    break\n",
        "                    \n",
        "        #pprint.pprint(adjacency_dict)\n",
        "        #pprint.pprint(predec_dict)\n",
        "        #pprint.pprint(indegree_list)\n",
        "            \n",
        "            \n",
        "        #create queue of indegree 0 vertices\n",
        "        indegree_0_queue = deque([i for i in range(n) if indegree_list[i]==0])\n",
        "        no_of_degree_0_initially = len(indegree_0_queue)\n",
        "        #pprint.pprint(indegree_0_queue)\n",
        "        \n",
        "        topologically_sorted_vertices = []\n",
        "        #topological sort\n",
        "        while indegree_0_queue:\n",
        "            processing_vertex = indegree_0_queue.popleft()\n",
        "            topologically_sorted_vertices.append(processing_vertex)\n",
        "            for neighbour in adjacency_dict[processing_vertex]:\n",
        "                indegree_list[neighbour] -= 1\n",
        "                if indegree_list[neighbour] == 0:\n",
        "                    indegree_0_queue.append(neighbour)\n",
        "                    \n",
        "        #pprint.pprint(topologically_sorted_vertices)\n",
        "        \n",
        "        answer = 0\n",
        "        pathlength_to_ = {}\n",
        "        \n",
        "       \n",
        "        for j in range(n):\n",
        "            v = topologically_sorted_vertices[j]\n",
        "            maxlength = 0\n",
        "            for predec in predec_dict[v]:\n",
        "                    maxlength = max(maxlength, pathlength_to_[predec]) \n",
        "                    \n",
        "            if predec_dict[v]:   \n",
        "                pathlength_to_[v] = maxlength + 1\n",
        "            else:\n",
        "                pathlength_to_[v] = maxlength\n",
        "                \n",
        "                \n",
        "        answer = max(answer, max(pathlength_to_.values()))\n",
        "            \n",
        "        return answer+1 \n",
        "                \n",
        "            \n",
        "     \n",
        "           \n",
        "                "
      ],
      "execution_count": 0,
      "outputs": []
    },
    {
      "cell_type": "code",
      "metadata": {
        "id": "dOTtrKP7FPTt",
        "colab_type": "code",
        "colab": {}
      },
      "source": [
        "sol = Solution()"
      ],
      "execution_count": 0,
      "outputs": []
    },
    {
      "cell_type": "code",
      "metadata": {
        "id": "1SLOLK64FWum",
        "colab_type": "code",
        "colab": {
          "base_uri": "https://localhost:8080/",
          "height": 34
        },
        "outputId": "48f5af6f-33a3-4cbe-d239-c25dffe65bff"
      },
      "source": [
        "sol.maxJumps([6,4,14,6,8,13,9,7,10,6,12],2)"
      ],
      "execution_count": 5,
      "outputs": [
        {
          "output_type": "execute_result",
          "data": {
            "text/plain": [
              "4"
            ]
          },
          "metadata": {
            "tags": []
          },
          "execution_count": 5
        }
      ]
    },
    {
      "cell_type": "code",
      "metadata": {
        "id": "deIR94K6FfAC",
        "colab_type": "code",
        "colab": {}
      },
      "source": [
        ""
      ],
      "execution_count": 0,
      "outputs": []
    }
  ]
}