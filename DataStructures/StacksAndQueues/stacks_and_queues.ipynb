{
  "nbformat": 4,
  "nbformat_minor": 0,
  "metadata": {
    "colab": {
      "name": "stacks_and_queues.ipynb",
      "provenance": [],
      "toc_visible": true
    },
    "kernelspec": {
      "name": "python3",
      "display_name": "Python 3"
    }
  },
  "cells": [
    {
      "cell_type": "markdown",
      "metadata": {
        "id": "agoZPxStHINJ",
        "colab_type": "text"
      },
      "source": [
        "# Implementing stacks using lists\n",
        "\n",
        "Stacks : Last in, first out\n",
        "\n",
        "Start of list = bottom of stack\n",
        "End of list = top of stack"
      ]
    },
    {
      "cell_type": "code",
      "metadata": {
        "id": "HBOd46UmHLts",
        "colab_type": "code",
        "colab": {}
      },
      "source": [
        "#Say we have a stack where Job 0 is at the bottom, then Job 1, then Job 5\n",
        "my_stack = [0, 1, 5]"
      ],
      "execution_count": 0,
      "outputs": []
    },
    {
      "cell_type": "code",
      "metadata": {
        "id": "spcYwDncHjoo",
        "colab_type": "code",
        "colab": {}
      },
      "source": [
        "#pushing Job 6 to the stack\n",
        "#O(1) operation\n",
        "my_stack.append(6)\n"
      ],
      "execution_count": 0,
      "outputs": []
    },
    {
      "cell_type": "code",
      "metadata": {
        "id": "OUzDNQvIH08l",
        "colab_type": "code",
        "colab": {
          "base_uri": "https://localhost:8080/",
          "height": 34
        },
        "outputId": "ef665ecf-ec98-4fa9-b891-5c17da20c0a3"
      },
      "source": [
        "my_stack"
      ],
      "execution_count": 13,
      "outputs": [
        {
          "output_type": "execute_result",
          "data": {
            "text/plain": [
              "[0, 1, 5, 6]"
            ]
          },
          "metadata": {
            "tags": []
          },
          "execution_count": 13
        }
      ]
    },
    {
      "cell_type": "code",
      "metadata": {
        "id": "eQiONR0SH1k7",
        "colab_type": "code",
        "colab": {
          "base_uri": "https://localhost:8080/",
          "height": 34
        },
        "outputId": "ea64af0b-1ae8-456a-d1fb-56cdd7ef86c4"
      },
      "source": [
        "#popping the top of the stack\n",
        "#O(1) operation\n",
        "my_stack.pop()"
      ],
      "execution_count": 14,
      "outputs": [
        {
          "output_type": "execute_result",
          "data": {
            "text/plain": [
              "6"
            ]
          },
          "metadata": {
            "tags": []
          },
          "execution_count": 14
        }
      ]
    },
    {
      "cell_type": "code",
      "metadata": {
        "id": "jdyL63ndH7GX",
        "colab_type": "code",
        "colab": {
          "base_uri": "https://localhost:8080/",
          "height": 34
        },
        "outputId": "1040b75c-3c2a-42a1-ffd5-08c35f6e82eb"
      },
      "source": [
        "my_stack"
      ],
      "execution_count": 15,
      "outputs": [
        {
          "output_type": "execute_result",
          "data": {
            "text/plain": [
              "[0, 1, 5]"
            ]
          },
          "metadata": {
            "tags": []
          },
          "execution_count": 15
        }
      ]
    },
    {
      "cell_type": "markdown",
      "metadata": {
        "id": "anSKDCHjItAP",
        "colab_type": "text"
      },
      "source": [
        "# Implementing queues using lists\n",
        "\n",
        "Queues : First in, first out\n",
        "\n",
        "Start of list = end of queue\n",
        "\n",
        "End of list = start of queue"
      ]
    },
    {
      "cell_type": "code",
      "metadata": {
        "id": "3q1HRiC9I4bg",
        "colab_type": "code",
        "colab": {}
      },
      "source": [
        "#Say we have a queue where Person 5 is at the front, then Person 1, then Person 0\n",
        "my_queue = [0, 1, 5]"
      ],
      "execution_count": 0,
      "outputs": []
    },
    {
      "cell_type": "code",
      "metadata": {
        "id": "MMDl3JNNJGaS",
        "colab_type": "code",
        "colab": {}
      },
      "source": [
        "#Person 6 joins the queue\n",
        "\n",
        "#list_name.insert(j, val) inserts val into list before position j\n",
        "#O(n) operation where n is size of list\n",
        "my_queue.insert(0,6)\n"
      ],
      "execution_count": 0,
      "outputs": []
    },
    {
      "cell_type": "code",
      "metadata": {
        "id": "eXkB9WNpJTn3",
        "colab_type": "code",
        "colab": {
          "base_uri": "https://localhost:8080/",
          "height": 34
        },
        "outputId": "635471d8-4f63-474e-85f3-d6b341a3d2e8"
      },
      "source": [
        "my_queue"
      ],
      "execution_count": 18,
      "outputs": [
        {
          "output_type": "execute_result",
          "data": {
            "text/plain": [
              "[6, 0, 1, 5]"
            ]
          },
          "metadata": {
            "tags": []
          },
          "execution_count": 18
        }
      ]
    },
    {
      "cell_type": "code",
      "metadata": {
        "id": "bgrKbNUaJUh5",
        "colab_type": "code",
        "colab": {
          "base_uri": "https://localhost:8080/",
          "height": 34
        },
        "outputId": "88a8fc9f-b104-4eab-8f39-bbebd126dc09"
      },
      "source": [
        "#Dequeing \n",
        "#O(1) operation\n",
        "\n",
        "my_queue.pop()"
      ],
      "execution_count": 19,
      "outputs": [
        {
          "output_type": "execute_result",
          "data": {
            "text/plain": [
              "5"
            ]
          },
          "metadata": {
            "tags": []
          },
          "execution_count": 19
        }
      ]
    },
    {
      "cell_type": "code",
      "metadata": {
        "id": "f0BWLAvFJane",
        "colab_type": "code",
        "colab": {
          "base_uri": "https://localhost:8080/",
          "height": 34
        },
        "outputId": "ffc282a1-9c9e-4e5f-acdc-1671af686584"
      },
      "source": [
        "my_queue"
      ],
      "execution_count": 20,
      "outputs": [
        {
          "output_type": "execute_result",
          "data": {
            "text/plain": [
              "[6, 0, 1]"
            ]
          },
          "metadata": {
            "tags": []
          },
          "execution_count": 20
        }
      ]
    },
    {
      "cell_type": "markdown",
      "metadata": {
        "id": "cyqz7I-KJdg2",
        "colab_type": "text"
      },
      "source": [
        "#Implementing stacks using deque\n",
        "\n",
        "Stacks : Last in, first out\n",
        "\n",
        "deque data structure has methods:\n",
        "\n",
        " - append(value), appendleft(value), \n",
        "\n",
        " - pop(), popleft(), \n",
        "\n",
        " - extend(iterable), extendleft(iterable)\n",
        "\n",
        "\n",
        "\n"
      ]
    },
    {
      "cell_type": "code",
      "metadata": {
        "id": "ZoSGp-ISJyb0",
        "colab_type": "code",
        "colab": {}
      },
      "source": [
        "import collections \n",
        "  \n",
        "\n",
        "#Say we have a stack where Job 0 is at the bottom, then Job 1, then Job 5\n",
        "my_stack_deque = collections.deque([0,1,5]) \n",
        " "
      ],
      "execution_count": 0,
      "outputs": []
    },
    {
      "cell_type": "code",
      "metadata": {
        "id": "MFAdkhssKdcP",
        "colab_type": "code",
        "colab": {}
      },
      "source": [
        "#pushing Job 6 to the stack\n",
        "#O(1) operation\n",
        "my_stack_deque.append(6)\n"
      ],
      "execution_count": 0,
      "outputs": []
    },
    {
      "cell_type": "code",
      "metadata": {
        "id": "FAP8QD2UKszX",
        "colab_type": "code",
        "colab": {
          "base_uri": "https://localhost:8080/",
          "height": 34
        },
        "outputId": "d7730b7f-f9b8-4f54-af0f-5f3de569ac2a"
      },
      "source": [
        "my_stack_deque"
      ],
      "execution_count": 24,
      "outputs": [
        {
          "output_type": "execute_result",
          "data": {
            "text/plain": [
              "deque([0, 1, 5, 6])"
            ]
          },
          "metadata": {
            "tags": []
          },
          "execution_count": 24
        }
      ]
    },
    {
      "cell_type": "code",
      "metadata": {
        "id": "T3B2GdfNKziu",
        "colab_type": "code",
        "colab": {
          "base_uri": "https://localhost:8080/",
          "height": 34
        },
        "outputId": "d7f6757c-7775-4a19-efb7-2471d6217d63"
      },
      "source": [
        "#popping the top of the stack\n",
        "#O(1) operation\n",
        "my_stack_deque.pop()"
      ],
      "execution_count": 25,
      "outputs": [
        {
          "output_type": "execute_result",
          "data": {
            "text/plain": [
              "6"
            ]
          },
          "metadata": {
            "tags": []
          },
          "execution_count": 25
        }
      ]
    },
    {
      "cell_type": "code",
      "metadata": {
        "id": "-ZSj0ZbEK3Du",
        "colab_type": "code",
        "colab": {
          "base_uri": "https://localhost:8080/",
          "height": 34
        },
        "outputId": "688d596d-137a-410e-a2d5-8c9652641f51"
      },
      "source": [
        "my_stack_deque"
      ],
      "execution_count": 26,
      "outputs": [
        {
          "output_type": "execute_result",
          "data": {
            "text/plain": [
              "deque([0, 1, 5])"
            ]
          },
          "metadata": {
            "tags": []
          },
          "execution_count": 26
        }
      ]
    },
    {
      "cell_type": "markdown",
      "metadata": {
        "id": "zlAR0bt1K_B2",
        "colab_type": "text"
      },
      "source": [
        "#Implementing queues using deque\n",
        "\n",
        "\n",
        "Queues : First in, first out\n",
        "\n",
        "Start of deque = end of queue\n",
        "\n",
        "End of deque = start of queue"
      ]
    },
    {
      "cell_type": "code",
      "metadata": {
        "id": "aof3UJn1LIR8",
        "colab_type": "code",
        "colab": {}
      },
      "source": [
        "#Say we have a queue where Person 5 is at the front, then Person 1, then Person 0\n",
        "my_queue_deque = collections.deque([0, 1, 5])"
      ],
      "execution_count": 0,
      "outputs": []
    },
    {
      "cell_type": "code",
      "metadata": {
        "id": "odxMPOZPLPH9",
        "colab_type": "code",
        "colab": {}
      },
      "source": [
        "#Person 6 joins the queue\n",
        "#O(1) operation\n",
        "\n",
        "my_queue_deque.appendleft(6)\n"
      ],
      "execution_count": 0,
      "outputs": []
    },
    {
      "cell_type": "code",
      "metadata": {
        "id": "xUI3CLlqLX4s",
        "colab_type": "code",
        "colab": {
          "base_uri": "https://localhost:8080/",
          "height": 34
        },
        "outputId": "219d8b37-17bc-41eb-ac0d-bf9d83323508"
      },
      "source": [
        "my_queue_deque"
      ],
      "execution_count": 30,
      "outputs": [
        {
          "output_type": "execute_result",
          "data": {
            "text/plain": [
              "deque([6, 0, 1, 5])"
            ]
          },
          "metadata": {
            "tags": []
          },
          "execution_count": 30
        }
      ]
    },
    {
      "cell_type": "code",
      "metadata": {
        "id": "9l7gibAOLZUD",
        "colab_type": "code",
        "colab": {
          "base_uri": "https://localhost:8080/",
          "height": 34
        },
        "outputId": "a5579d13-b91e-473c-ca4a-3a76aecc4244"
      },
      "source": [
        "#Dequeing \n",
        "#O(1) operation\n",
        "\n",
        "my_queue_deque.pop()"
      ],
      "execution_count": 31,
      "outputs": [
        {
          "output_type": "execute_result",
          "data": {
            "text/plain": [
              "5"
            ]
          },
          "metadata": {
            "tags": []
          },
          "execution_count": 31
        }
      ]
    },
    {
      "cell_type": "code",
      "metadata": {
        "id": "ui5YEEiMLept",
        "colab_type": "code",
        "colab": {
          "base_uri": "https://localhost:8080/",
          "height": 34
        },
        "outputId": "7171bd9a-7fa6-478b-a3ee-305c88281c00"
      },
      "source": [
        "my_queue_deque"
      ],
      "execution_count": 33,
      "outputs": [
        {
          "output_type": "execute_result",
          "data": {
            "text/plain": [
              "deque([6, 0, 1])"
            ]
          },
          "metadata": {
            "tags": []
          },
          "execution_count": 33
        }
      ]
    },
    {
      "cell_type": "code",
      "metadata": {
        "id": "VjsDwfwYLfiG",
        "colab_type": "code",
        "colab": {}
      },
      "source": [
        ""
      ],
      "execution_count": 0,
      "outputs": []
    }
  ]
}