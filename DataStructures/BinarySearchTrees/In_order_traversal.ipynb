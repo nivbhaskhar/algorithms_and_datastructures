{
 "cells": [
  {
   "cell_type": "code",
   "execution_count": 1,
   "metadata": {},
   "outputs": [],
   "source": [
    "# Definition for a binary tree node.\n",
    "class TreeNode:\n",
    "    def __init__(self, val=0, left=None, right=None):\n",
    "        self.val = val\n",
    "        self.left = left\n",
    "        self.right = right\n"
   ]
  },
  {
   "cell_type": "code",
   "execution_count": 2,
   "metadata": {},
   "outputs": [],
   "source": [
    "def kthSmallest(root: TreeNode, k: int) -> int:\n",
    "    \"\"\"Given a binary search tree, returns the kth smallest element in it.\n",
    "    \"\"\"\n",
    "    sorted_list = []\n",
    "    def in_order_traversal(node):\n",
    "        if node is None or len(sorted_list) > k:\n",
    "            return                \n",
    "        else:\n",
    "            in_order_traversal(node.left)\n",
    "            sorted_list.append(node.val)\n",
    "            in_order_traversal(node.right)\n",
    "    \n",
    "    in_order_traversal(root)\n",
    "    return sorted_list[k-1]\n",
    "        \n",
    "        "
   ]
  },
  {
   "cell_type": "code",
   "execution_count": 3,
   "metadata": {},
   "outputs": [],
   "source": [
    "#Test input\n",
    "my_bst = TreeNode(7)\n",
    "level_1_left = TreeNode(1)\n",
    "level_1_right = TreeNode(14)\n",
    "level_2_right = TreeNode(2)\n",
    "level_1_left.right = level_2_right\n",
    "my_bst.left = level_1_left\n",
    "my_bst.right = level_1_right\n",
    "\n",
    "\n"
   ]
  },
  {
   "cell_type": "markdown",
   "metadata": {},
   "source": [
    "![Test input](test_input_bst.png)"
   ]
  },
  {
   "cell_type": "code",
   "execution_count": 4,
   "metadata": {},
   "outputs": [
    {
     "data": {
      "text/plain": [
       "7"
      ]
     },
     "execution_count": 4,
     "metadata": {},
     "output_type": "execute_result"
    }
   ],
   "source": [
    "kthSmallest(my_bst, 3)"
   ]
  },
  {
   "cell_type": "code",
   "execution_count": null,
   "metadata": {},
   "outputs": [],
   "source": []
  }
 ],
 "metadata": {
  "kernelspec": {
   "display_name": "Python 3",
   "language": "python",
   "name": "python3"
  },
  "language_info": {
   "codemirror_mode": {
    "name": "ipython",
    "version": 3
   },
   "file_extension": ".py",
   "mimetype": "text/x-python",
   "name": "python",
   "nbconvert_exporter": "python",
   "pygments_lexer": "ipython3",
   "version": "3.7.6"
  }
 },
 "nbformat": 4,
 "nbformat_minor": 4
}
