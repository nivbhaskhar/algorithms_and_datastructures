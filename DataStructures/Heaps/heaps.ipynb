{
 "cells": [
  {
   "cell_type": "markdown",
   "metadata": {},
   "source": [
    "Implementing heaps "
   ]
  },
  {
   "cell_type": "code",
   "execution_count": 37,
   "metadata": {},
   "outputs": [],
   "source": [
    "#imports\n",
    "from collections import defaultdict\n",
    "from typing import List, Dict\n",
    "import pprint\n",
    "import networkx as nx\n",
    "import matplotlib.pyplot as plt\n",
    "from math import floor\n",
    "from math import inf"
   ]
  },
  {
   "cell_type": "code",
   "execution_count": 38,
   "metadata": {},
   "outputs": [],
   "source": [
    "class MyHeapMax():\n",
    "    \"\"\"Maintain a balanced binary tree where locally parent's value >= either of its children's value\n",
    "    \"\"\"\n",
    "    def __init__(self, inputlist: List[int]):\n",
    "        \"\"\"\n",
    "        creates a heap with entries in inputlist\n",
    "        \"\"\"\n",
    "        self.numberofnodes = len(inputlist)\n",
    "        self.memberlist = inputlist\n",
    "        self.heapify_naive()\n",
    "\n",
    "        \n",
    "    def heapify_naive(self):\n",
    "        self.memberlist.sort(reverse = True)\n",
    "        \n",
    "    def height(self):\n",
    "        \"\"\"returns height of the heap\"\"\"\n",
    "        #if heap has only 1 = (binary 1) node, it has height 1\n",
    "        #if heap has 2 (binary 10) or 3 (binary 11) nodes, it has height 2\n",
    "        #if heap has n nodes, it has height (number of digits of n in binary rep)\n",
    "        #bin(n) = \"0b\" + binaryrep of n as a string\n",
    "        return len(bin(self.numberofnodes)) - 2\n",
    "    \n",
    "    #numbering of nodes starts from 0 (root node)\n",
    "    #leftchild of node number i is node number 2i+1\n",
    "    #rightchild of node number i is node number 2i+2\n",
    "    #parent of node number j = 2i+1 or 2i+2 is i = floor((j-1)/2) \n",
    "    \n",
    "    def repair_up(self, pos_of_val: int, val: int):\n",
    "        \"\"\"\n",
    "        repair the heap by moving up from val = value at pos_of_val till root node (if needed)\n",
    "        \"\"\"\n",
    "        while pos_of_val >= 1:\n",
    "            pos_of_parent = (pos_of_val -1)//2 #this is floor((pos_of_val -1)/2)\n",
    "            val_of_parent = self.memberlist[pos_of_parent]\n",
    "            #repair parent value\n",
    "            if val_of_parent < val:\n",
    "                #switch val and val_of_parent\n",
    "                self.memberlist[pos_of_val] = val_of_parent\n",
    "                self.memberlist[pos_of_parent] = val\n",
    "                pos_of_val = pos_of_parent\n",
    "            else:\n",
    "                break\n",
    "                \n",
    "    def repair_down(self, pos_of_val: int, val: int):\n",
    "        \"\"\"\n",
    "        repair the heap by moving down from val = value at pos_of_val till leaf (if needed)\n",
    "        \"\"\"\n",
    "        #pos_of_val is a leaf if 2*pos_of_val + 1 > number of nodes -1 \n",
    "        while (pos_of_val < self.numberofnodes) and (2*pos_of_val < self.numberofnodes - 1) :\n",
    "                    pos_of_left_child = 2*pos_of_val+1\n",
    "                    pos_of_right_child = 2*pos_of_val+2\n",
    "                    val_of_left_child = self.memberlist[pos_of_left_child]\n",
    "                    if pos_of_right_child < self.numberofnodes:\n",
    "                        val_of_right_child = self.memberlist[pos_of_right_child]\n",
    "                    else:\n",
    "                        val_of_right_child = -1*inf\n",
    "                    childrenlist = [(pos_of_left_child, val_of_left_child), (pos_of_right_child, val_of_right_child)]\n",
    "                    pos_of_max_child, val_of_max_child = max(childrenlist, key = lambda x: x[1])\n",
    "                    #swap val with max of its children if val < both its children\n",
    "                    if val < val_of_max_child:\n",
    "                        #switch val and val_of_max_child\n",
    "                        self.memberlist[pos_of_val] = val_of_max_child\n",
    "                        self.memberlist[pos_of_max_child] = val\n",
    "                        pos_of_val = pos_of_max_child\n",
    "                    else:\n",
    "                        break\n",
    "  \n",
    "    def insert_value(self, val: int):\n",
    "        \"\"\"\n",
    "        inserts val into heap\n",
    "        \"\"\"\n",
    "        self.numberofnodes += 1\n",
    "        \n",
    "        #insert val in at the end\n",
    "        self.memberlist.append(val)\n",
    "        pos_of_val = self.numberofnodes - 1\n",
    "        \n",
    "        #repair the heap by moving up from val till root node (if needed)\n",
    "        self.repair_up(pos_of_val, val)\n",
    "    \n",
    "        \n",
    "        \n",
    "    def delete_max(self)-> int:\n",
    "        \"\"\"\n",
    "        deletes the maximum entry from the heap and returns it\n",
    "        \"\"\"\n",
    "\n",
    "        if self.numberofnodes == 0:\n",
    "            print(\"Already empty heap\")\n",
    "            return None        \n",
    "        \n",
    "        max_val = self.memberlist[0]\n",
    "        self.numberofnodes -= 1\n",
    "        \n",
    "        if self.numberofnodes == 0:\n",
    "            print(\"Heap is empty now\")\n",
    "            self.memberlist = []\n",
    "            return max_val\n",
    "        \n",
    "        \n",
    "        #deletes the last node value\n",
    "        homeless_val = self.memberlist.pop(-1)\n",
    "        #insert it at the top of the heap\n",
    "        self.memberlist[0] = homeless_val\n",
    "        \n",
    "        \n",
    "        #repair the heap by moving down from val till leaf (if needed)\n",
    "        pos_of_homeless_val = 0\n",
    "        self.repair_down(pos_of_homeless_val, homeless_val)\n",
    "        return max_val\n",
    "    \n",
    "    \n",
    "    def update_at(self, pos_of_val: int, new_val: int):\n",
    "        \"\"\"\n",
    "        Updates the heap by replacing the old_val in node at position \"pos\" with new_val\n",
    "        \"\"\"\n",
    "\n",
    "        if (pos_of_val < 0) or (pos_of_val >= self.numberofnodes):\n",
    "            print(\"Invalid position\")\n",
    "            return\n",
    "        \n",
    "        if new_val == self.memberlist[pos_of_val]:\n",
    "            print(\"Same value!\")\n",
    "            return\n",
    "        \n",
    "        if new_val > self.memberlist[pos_of_val]:\n",
    "            #insert it at pos\n",
    "            self.memberlist[pos_of_val] = new_val\n",
    "            #repair the heap by moving up from val till root node (if needed)\n",
    "            self.repair_up(pos_of_val, new_val)\n",
    "           \n",
    "            \n",
    "            \n",
    "        if new_val < self.memberlist[pos_of_val]:\n",
    "            #insert it at pos\n",
    "            self.memberlist[pos_of_val] = new_val\n",
    "            #repair the heap by moving down from val till leaf (if needed)  \n",
    "            self.repair_down(pos_of_val, new_val)\n",
    "                \n",
    "        print(self.memberlist)\n",
    "    \n",
    "        \n",
    "        \n",
    "        \n",
    "        "
   ]
  },
  {
   "cell_type": "code",
   "execution_count": 49,
   "metadata": {},
   "outputs": [],
   "source": [
    "aheap = MyHeapMax([10,8,77,6,33,2])"
   ]
  },
  {
   "cell_type": "code",
   "execution_count": 50,
   "metadata": {},
   "outputs": [
    {
     "data": {
      "text/plain": [
       "[77, 33, 10, 8, 6, 2]"
      ]
     },
     "execution_count": 50,
     "metadata": {},
     "output_type": "execute_result"
    }
   ],
   "source": [
    "aheap.memberlist"
   ]
  },
  {
   "cell_type": "code",
   "execution_count": 51,
   "metadata": {},
   "outputs": [],
   "source": [
    "aheap.insert_value(20)"
   ]
  },
  {
   "cell_type": "code",
   "execution_count": 52,
   "metadata": {},
   "outputs": [
    {
     "data": {
      "text/plain": [
       "[77, 33, 20, 8, 6, 2, 10]"
      ]
     },
     "execution_count": 52,
     "metadata": {},
     "output_type": "execute_result"
    }
   ],
   "source": [
    "aheap.memberlist"
   ]
  },
  {
   "cell_type": "code",
   "execution_count": 53,
   "metadata": {},
   "outputs": [
    {
     "data": {
      "text/plain": [
       "77"
      ]
     },
     "execution_count": 53,
     "metadata": {},
     "output_type": "execute_result"
    }
   ],
   "source": [
    "aheap.delete_max()"
   ]
  },
  {
   "cell_type": "code",
   "execution_count": 54,
   "metadata": {},
   "outputs": [
    {
     "data": {
      "text/plain": [
       "[33, 10, 20, 8, 6, 2]"
      ]
     },
     "execution_count": 54,
     "metadata": {},
     "output_type": "execute_result"
    }
   ],
   "source": [
    "aheap.memberlist"
   ]
  },
  {
   "cell_type": "code",
   "execution_count": 55,
   "metadata": {},
   "outputs": [
    {
     "name": "stdout",
     "output_type": "stream",
     "text": [
      "[77, 10, 33, 8, 6, 2]\n"
     ]
    }
   ],
   "source": [
    "aheap.update_at(2, 77)"
   ]
  },
  {
   "cell_type": "code",
   "execution_count": 56,
   "metadata": {},
   "outputs": [
    {
     "name": "stdout",
     "output_type": "stream",
     "text": [
      "[77, 8, 33, 0, 6, 2]\n"
     ]
    }
   ],
   "source": [
    "aheap.update_at(1, 0)"
   ]
  },
  {
   "cell_type": "code",
   "execution_count": 57,
   "metadata": {},
   "outputs": [
    {
     "data": {
      "text/plain": [
       "77"
      ]
     },
     "execution_count": 57,
     "metadata": {},
     "output_type": "execute_result"
    }
   ],
   "source": [
    "aheap.delete_max()"
   ]
  },
  {
   "cell_type": "code",
   "execution_count": 59,
   "metadata": {},
   "outputs": [
    {
     "data": {
      "text/plain": [
       "33"
      ]
     },
     "execution_count": 59,
     "metadata": {},
     "output_type": "execute_result"
    }
   ],
   "source": [
    "aheap.delete_max()"
   ]
  },
  {
   "cell_type": "code",
   "execution_count": 60,
   "metadata": {},
   "outputs": [
    {
     "data": {
      "text/plain": [
       "[8, 6, 2, 0]"
      ]
     },
     "execution_count": 60,
     "metadata": {},
     "output_type": "execute_result"
    }
   ],
   "source": [
    "aheap.memberlist"
   ]
  },
  {
   "cell_type": "code",
   "execution_count": null,
   "metadata": {},
   "outputs": [],
   "source": []
  }
 ],
 "metadata": {
  "kernelspec": {
   "display_name": "Python 3",
   "language": "python",
   "name": "python3"
  },
  "language_info": {
   "codemirror_mode": {
    "name": "ipython",
    "version": 3
   },
   "file_extension": ".py",
   "mimetype": "text/x-python",
   "name": "python",
   "nbconvert_exporter": "python",
   "pygments_lexer": "ipython3",
   "version": "3.7.3"
  }
 },
 "nbformat": 4,
 "nbformat_minor": 2
}
